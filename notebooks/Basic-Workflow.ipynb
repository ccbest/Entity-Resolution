{
 "cells": [
  {
   "cell_type": "markdown",
   "id": "637b5d61",
   "metadata": {},
   "source": [
    "### Entity Resolution in Python (Basic Overview)\n",
    "\n",
    "This notebook will give you a very basic understanding of a typical workflow you might encounter. We'll explore the following topics:\n",
    "* What is an Entlet?\n",
    "* Adding Entlets to an EntletMap\n",
    "* Creating resolution Strategies\n",
    "* Creating a Pipeline\n",
    "* Understanding Results\n",
    "\n",
    "Let's start by adding the project to your path so it's importable, and then importing the Entlet object"
   ]
  },
  {
   "cell_type": "code",
   "execution_count": 1,
   "id": "d5b2da07",
   "metadata": {},
   "outputs": [],
   "source": [
    "import sys\n",
    "sys.path.append('../')   # Assuming you `git clone`d the repo - append the library root to syspath for importing\n",
    "\n",
    "from entity_resolution import Entlet"
   ]
  },
  {
   "cell_type": "markdown",
   "id": "428e16ab",
   "metadata": {},
   "source": [
    "### What is an Entlet?\n",
    "\n",
    "An entlet is an entity according to a single source of information. It can be anything - a state, a person, a car...basically any noun.\n",
    "\n",
    "You can assign whatever properties you want to the entlet using the .add() method, and each property can contain as many values as you like. \"Nested\" values (typically in the form of dictionaries) and objects that contain one or more values, are respected, meaning the values will \"stay together\" throughout resolution.\n",
    "\n",
    "Certain properties (defined below in the Entlet IDs section) are \"reserved,\" meaning they will only accept a single value that cannot be changed/updated after it is set."
   ]
  },
  {
   "cell_type": "code",
   "execution_count": 2,
   "id": "42eb9bfe",
   "metadata": {},
   "outputs": [
    {
     "data": {
      "text/plain": [
       "Entlet()"
      ]
     },
     "execution_count": 2,
     "metadata": {},
     "output_type": "execute_result"
    }
   ],
   "source": [
    "entlet = Entlet()\n",
    "\n",
    "entlet.add({\n",
    "    \"name\": \"San Mateo County\",\n",
    "    \"location\": {\n",
    "        \"country\": \"US\",\n",
    "        \"state\": \"CA\"\n",
    "    }\n",
    "})"
   ]
  },
  {
   "cell_type": "markdown",
   "id": "c9947837",
   "metadata": {},
   "source": [
    "##### Working with Entlet IDs\n",
    "\n",
    "Entlet IDs are created for you, based on the information you added to the entlet. Generally, the goal of an Entlet ID is to:\n",
    "* Remain consistent across runs of the entity resolver\n",
    "* Uniquely identify that entlet within its source\n",
    "\n",
    "There are three ways an entlet can be created:\n",
    "\n",
    "**Defining a source unique id field** (Recommended)\n",
    "\n",
    "If your data source already supplies a unique id, you can specify the field name of the unique id. If you use this method, the field you define will become \"reserved,\" i.e., it will only accept a single value from the .add() method that cannot be overwritten.\n",
    "\n",
    "\n",
    "**Defining your own unique id** \n",
    "\n",
    "If no unique id is provided, you can define your own. This generally makes it a bit more difficult to keep the unique ids stable between runs of the entity resolver, so is not recommended.\n",
    "\n",
    "\n",
    "**Defining a combination of fields that uniquely identify the entlet**\n",
    "\n",
    "Alternatively, you can specify a combination of fields that together define the entlet as unique. These fields still allow multiple values; the values provided will be hashed together to create a the unique id."
   ]
  },
  {
   "cell_type": "code",
   "execution_count": 4,
   "id": "a0a98e5a",
   "metadata": {},
   "outputs": [
    {
     "name": "stdout",
     "output_type": "stream",
     "text": [
      "Fields required for unique ID creation: <property object at 0x000002ED681B5310>\n"
     ]
    },
    {
     "ename": "AttributeError",
     "evalue": "type object 'Entlet' has no attribute 'SOURCE_UID_FIELD'",
     "output_type": "error",
     "traceback": [
      "\u001B[1;31m---------------------------------------------------------------------------\u001B[0m",
      "\u001B[1;31mAttributeError\u001B[0m                            Traceback (most recent call last)",
      "Cell \u001B[1;32mIn[4], line 12\u001B[0m\n\u001B[0;32m      5\u001B[0m \u001B[38;5;66;03m# Define your own unique id for this specific entlet\u001B[39;00m\n\u001B[0;32m      6\u001B[0m \u001B[38;5;66;03m# entlet.define_individual_id(1)\u001B[39;00m\n\u001B[0;32m      7\u001B[0m \n\u001B[0;32m      8\u001B[0m \u001B[38;5;66;03m# Define a combination of fields that uniquely identify the entlet\u001B[39;00m\n\u001B[0;32m      9\u001B[0m \u001B[38;5;66;03m# Entlet.define_custom_uid_fields(\"location.country\", \"location.state\"\", \"name\")\u001B[39;00m\n\u001B[0;32m     11\u001B[0m \u001B[38;5;28mprint\u001B[39m(\u001B[38;5;124m\"\u001B[39m\u001B[38;5;124mFields required for unique ID creation: \u001B[39m\u001B[38;5;124m\"\u001B[39m \u001B[38;5;241m+\u001B[39m \u001B[38;5;28mstr\u001B[39m(Entlet\u001B[38;5;241m.\u001B[39mrequired_fields))\n\u001B[1;32m---> 12\u001B[0m \u001B[38;5;28mprint\u001B[39m(\u001B[38;5;124m\"\u001B[39m\u001B[38;5;124mThe following fields behave as source-specific unique ID fields: \u001B[39m\u001B[38;5;124m\"\u001B[39m \u001B[38;5;241m+\u001B[39m \u001B[38;5;28mstr\u001B[39m(\u001B[43mEntlet\u001B[49m\u001B[38;5;241;43m.\u001B[39;49m\u001B[43mSOURCE_UID_FIELD\u001B[49m))\n",
      "\u001B[1;31mAttributeError\u001B[0m: type object 'Entlet' has no attribute 'SOURCE_UID_FIELD'"
     ]
    }
   ],
   "source": [
    "# Define a field (countyFIPS) that contains a unique id provided by the source (\"fips_data\" dataset)\n",
    "# Note that this is a classmethod\n",
    "Entlet.define_source_uid_field(\"fips_data\", \"countyFIPS\")\n",
    "\n",
    "entlet.add({\n",
    "    \"countyFIPS\": \"12345\",  # Reserved field, because we defined it as the Source UID field\n",
    "    \"location\": {\n",
    "        \"country\": \"UK\",\n",
    "        \"state\": \"Not alabama\"\n",
    "    }\n",
    "})\n",
    "\n",
    "# Define your own unique id for this specific entlet\n",
    "# entlet.define_individual_id(1)\n",
    "\n",
    "# Define a combination of fields that uniquely identify the entlet\n",
    "# Entlet.define_custom_uid_fields(\"location.country\", \"location.state\"\", \"name\")\n",
    "\n",
    "print(\"Fields required for unique ID creation: \" + str(Entlet.required_fields))\n",
    "print(\"The following fields behave as source-specific unique ID fields: \" + str(Entlet.SOURCE_UID_FIELD))"
   ]
  },
  {
   "cell_type": "markdown",
   "id": "11dae41b",
   "metadata": {},
   "source": [
    "You can add values to the entlet as you go.  Each field (except for \"reserved\" fields - see below) is treated as a list, so new values are simply appended (duplicate values are discarded)."
   ]
  },
  {
   "cell_type": "code",
   "execution_count": null,
   "id": "31e239fe",
   "metadata": {},
   "outputs": [],
   "source": []
  },
  {
   "cell_type": "markdown",
   "id": "9b95eef9",
   "metadata": {},
   "source": [
    "### Reserved fields on the entlet\n",
    "\n",
    "You *must* add string values for the following 2 fields on every entlet:\n",
    "* ent_type\n",
    "* data_source\n",
    "\n",
    "Entlets with different ent_types ***will not resolve together***. Capitalization matters here."
   ]
  },
  {
   "cell_type": "code",
   "execution_count": null,
   "id": "704cc87e",
   "metadata": {},
   "outputs": [],
   "source": [
    "entlet.add({\n",
    "    \"ent_type\": \"county\",\n",
    "    \"data_source\": \"fips_data\",\n",
    "})"
   ]
  },
  {
   "cell_type": "markdown",
   "id": "f80288ab",
   "metadata": {},
   "source": [
    "\n"
   ]
  },
  {
   "cell_type": "markdown",
   "id": "d5809dee",
   "metadata": {},
   "source": [
    "### Creating an EntletMap\n",
    "\n",
    "Now that we've created our first entlet, added some data to it, and defined how it should produce its unique id, we have to add it to a \"pool\" of entlets for resolution."
   ]
  },
  {
   "cell_type": "code",
   "execution_count": null,
   "id": "d25d4c02",
   "metadata": {},
   "outputs": [],
   "source": [
    "from entity_resolution import EntletMap\n",
    "\n",
    "# We can simply instance EntletMap with one or more entlets,\n",
    "# but later we'll use the .add() method to add additional ones\n",
    "emap = EntletMap([entlet])"
   ]
  },
  {
   "cell_type": "markdown",
   "id": "848dca22",
   "metadata": {},
   "source": [
    "We've added one entlet to the EntletMap. Now lets add a few more!"
   ]
  },
  {
   "cell_type": "code",
   "execution_count": null,
   "id": "dc08a298",
   "metadata": {},
   "outputs": [],
   "source": [
    "entlet = Entlet()\n",
    "entlet.add({\n",
    "    \"ent_type\": \"county\",\n",
    "    \"data_source\": \"fips_data\",\n",
    "    \"countyFIPS\": \"23456\",\n",
    "    \"name\": \"San Mateo\",\n",
    "    \"location\": {\n",
    "        \"country\": \"US\",\n",
    "        \"state\": \"CA\"\n",
    "    }\n",
    "})\n",
    "emap.add(entlet)\n",
    "\n",
    "entlet = Entlet()\n",
    "entlet.add({\n",
    "    \"ent_type\": \"county\",\n",
    "    \"data_source\": \"fips_data\",\n",
    "    \"countyFIPS\": \"34567\",\n",
    "    \"name\": \"Santa Clara County\",\n",
    "    \"location\": {\n",
    "        \"country\": \"US\",\n",
    "        \"state\": \"CA\"\n",
    "    }\n",
    "})\n",
    "emap.add(entlet)"
   ]
  },
  {
   "cell_type": "markdown",
   "id": "b0f769fa",
   "metadata": {},
   "source": [
    "## Building a Resolution Pipeline"
   ]
  },
  {
   "cell_type": "markdown",
   "id": "f4a7a252",
   "metadata": {},
   "source": [
    "### Building Strategies\n",
    "\n",
    "Now that we've created a few entlets, we have to determine what makes two entlets similar enough that they should be resolved together.\n",
    "\n",
    "You can define as many strategies as you need, and each strategy can contain as many comparisons as you want. Keep in mind though that as your number of comparisons grows, so will your computational cost. \n",
    "\n",
    "Strategies consist of the following elements:\n",
    "* A 'blocker'\n",
    "* One or more ways to measure similarity between entlets\n",
    "* A way to determine whether the similarity scores pass a threshold test"
   ]
  },
  {
   "cell_type": "markdown",
   "id": "c78985ee",
   "metadata": {},
   "source": [
    "#### Defining a Blocker\n",
    "\n",
    "Blockers determine how entlets get \"paired up\" for comparison - which implies that *not all entlets will be compared against each other*. Entity Resolution is computationally expensive, and there's always a small chance that a \"bad\" resolution will occur. To mitigate both of these things, we define a blocker to try and pair up entlets in the smartest possible way.\n",
    "\n",
    "For this example, we'll use the SortedNeighborhood blocker, with a window size of 3. We tell the blocker to block based on the 'name' field, meaning the entlets will get sorted based on values in the 'name' field. The window size means that entlets will only be compared with their 3 closest alphabetical neighbors."
   ]
  },
  {
   "cell_type": "code",
   "execution_count": null,
   "id": "dc4cd861",
   "metadata": {},
   "outputs": [],
   "source": [
    "from entity_resolution.blocking.sorted_value import SortedNeighborhood\n",
    "\n",
    "blocker = SortedNeighborhood(\"name\", window_size=3)"
   ]
  },
  {
   "cell_type": "markdown",
   "id": "9d4780ff",
   "metadata": {},
   "source": [
    "#### Defining Transforms and Similarity Measures\n",
    "\n",
    "Now we need to determine how to compare values against each other. We'll define two similarity measures for this strategy:\n",
    "* Exact match between values of 'location.state'\n",
    "* Cosine similarity between the vector values of 'name'\n",
    "\n",
    "Note that the second strategy will require that we convert the value in the 'name' field to a vector. We can accomplish this using a transform that returns a vector. For this example, we'll use TF-IDF."
   ]
  },
  {
   "cell_type": "code",
   "execution_count": null,
   "id": "c7eed678",
   "metadata": {},
   "outputs": [],
   "source": [
    "from entity_resolution.similarity import CosineSimilarity, ExactMatch\n",
    "from entity_resolution.transforms import TfIdfTokenizedVector\n",
    "\n",
    "name_exact_match = ExactMatch(\"location.state\")\n",
    "\n",
    "tfidf = TfIdfTokenizedVector()\n",
    "name_tfidf_similarity = CosineSimilarity(\"name\", transform=tfidf)"
   ]
  },
  {
   "cell_type": "markdown",
   "id": "3070087e",
   "metadata": {},
   "source": [
    "#### Defining a scoring method\n",
    "\n",
    "Since we have two different measurements of similarity, we have to tell the Strategy how to combine those scores into a single heuristic that can be tested against a threshold we set.\n",
    "\n",
    "For this example, we'll treat each of the two scores as dimensions in a vector and treat that vector's magnitude as the overall score. Any combination of scores that produces a vector with magnitude greater than 1 will be considered a valid resolution."
   ]
  },
  {
   "cell_type": "code",
   "execution_count": null,
   "id": "1ace3f92",
   "metadata": {},
   "outputs": [],
   "source": [
    "from entity_resolution.scoring import VectorMagnitude\n",
    "\n",
    "scoring_method = VectorMagnitude(min=1.0)"
   ]
  },
  {
   "cell_type": "code",
   "execution_count": null,
   "id": "ad2e1282",
   "metadata": {},
   "outputs": [],
   "source": [
    "from entity_resolution import Strategy\n",
    "\n",
    "# Roll up the above blocker, similarity metrics, and scoring method into a Strategy\n",
    "strategy = Strategy(\n",
    "    blocker=blocker,\n",
    "    metrics=[name_exact_match, name_tfidf_similarity],\n",
    "    scoring_method=scoring_method\n",
    ")"
   ]
  },
  {
   "cell_type": "markdown",
   "id": "e6ea5ed5",
   "metadata": {},
   "source": [
    "### Defining a Pipeline\n",
    "\n",
    "The Pipeline is what actually runs Entity Resolution, and will try to minimize the computational overhead of the strategies that you provide using under-the-hood optimizations. You can define as many strategies, standardizers, and partitioners (TODO) as you like.\n",
    "\n",
    "To run the pipeline against the entlets you've created, pass your EntletMap to the Pipeline's .resolve() method."
   ]
  },
  {
   "cell_type": "code",
   "execution_count": null,
   "id": "19a2f461",
   "metadata": {},
   "outputs": [],
   "source": [
    "from entity_resolution import Pipeline\n",
    "\n",
    "pipeline = Pipeline(\n",
    "    strategies=[strategy], \n",
    "    standardizers=[state_std]\n",
    ")\n",
    "\n",
    "entity_map = pipeline.resolve(emap)"
   ]
  },
  {
   "cell_type": "markdown",
   "id": "eab56bb0",
   "metadata": {},
   "source": [
    "#### Working with Results\n",
    "\n",
    "The Pipeline will give you back an EntityMap, where the keys represent a unique Entity ID (as opposed to the earlier Ent*let* ID), and the values represent the aggregated information corresponding to all of the underlying entlets."
   ]
  },
  {
   "cell_type": "code",
   "execution_count": null,
   "id": "f125874e",
   "metadata": {},
   "outputs": [],
   "source": [
    "from pprint import pprint\n",
    "\n",
    "pprint(entity_map)"
   ]
  },
  {
   "cell_type": "code",
   "execution_count": null,
   "id": "c035ddac",
   "metadata": {},
   "outputs": [],
   "source": []
  }
 ],
 "metadata": {
  "kernelspec": {
   "display_name": "Python 3 (ipykernel)",
   "language": "python",
   "name": "python3"
  },
  "language_info": {
   "codemirror_mode": {
    "name": "ipython",
    "version": 3
   },
   "file_extension": ".py",
   "mimetype": "text/x-python",
   "name": "python",
   "nbconvert_exporter": "python",
   "pygments_lexer": "ipython3",
   "version": "3.9.6"
  }
 },
 "nbformat": 4,
 "nbformat_minor": 5
}