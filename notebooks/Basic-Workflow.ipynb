{
 "cells": [
  {
   "cell_type": "markdown",
   "id": "637b5d61",
   "metadata": {},
   "source": [
    "### Welcome to ResolvER's workflow documentation!\n",
    "\n",
    "This notebook will give you a very basic understanding of a typical workflow you might encounter. We'll explore the following topics:\n",
    "* What is an Entlet?\n",
    "* Adding Entlets to an EntletMap\n",
    "* Creating resolution Strategies\n",
    "* Creating a Pipeline\n",
    "* Understanding Results\n",
    "\n",
    "Let's start by adding the project to your path so it's importable, and then importing the Entlet object"
   ]
  },
  {
   "cell_type": "code",
   "execution_count": 1,
   "id": "d5b2da07",
   "metadata": {},
   "outputs": [],
   "source": [
    "import sys\n",
    "sys.path.append('../')   # Assuming you `git clone`d the repo - append the library root to syspath for importing\n",
    "\n",
    "from resolver import Entlet"
   ]
  },
  {
   "cell_type": "markdown",
   "id": "428e16ab",
   "metadata": {},
   "source": [
    "### What is an Entlet?\n",
    "\n",
    "An entlet is an entity according to a single source of information. It can be anything - a state, a person, a car...basically any noun.\n",
    "\n",
    "You can assign whatever properties you want to the entlet using the .add() method, and each property can contain as many values as you like. \"Nested\" values (typically in the form of dictionaries) and objects that contain one or more values, are respected, meaning the values will \"stay together\" throughout resolution.\n",
    "\n",
    "Certain properties (defined below in the Entlet IDs section) are \"reserved,\" meaning they will only accept a single value that cannot be changed/updated after it is set."
   ]
  },
  {
   "cell_type": "code",
   "execution_count": 2,
   "id": "42eb9bfe",
   "metadata": {},
   "outputs": [
    {
     "data": {
      "text/plain": [
       "Entlet()"
      ]
     },
     "execution_count": 2,
     "metadata": {},
     "output_type": "execute_result"
    }
   ],
   "source": [
    "entlet = Entlet()\n",
    "\n",
    "entlet.add({\n",
    "    \"name\": \"Lake County\",\n",
    "    \"location\": {\n",
    "        \"country\": \"US\",\n",
    "        \"state\": \"IL\"\n",
    "    }\n",
    "})"
   ]
  },
  {
   "cell_type": "markdown",
   "id": "c9947837",
   "metadata": {},
   "source": [
    "##### Working with Entlet IDs\n",
    "\n",
    "Entlet IDs are created for you, based on the information you added to the entlet. Generally, the goal of an Entlet ID is to:\n",
    "* Remain consistent across runs of the entity resolver\n",
    "* Uniquely identify that entlet within its source\n",
    "\n",
    "There are three ways an entlet can be created:\n",
    "\n",
    "**Defining a source unique id field** (Recommended)\n",
    "\n",
    "If your data source already supplies a unique id, you can specify the field name of the unique id. If you use this method, the field you define will become \"reserved,\" i.e., it will only accept a single value from the .add() method that cannot be overwritten.\n",
    "\n",
    "\n",
    "**Defining your own unique id** \n",
    "\n",
    "If no unique id is provided, you can define your own. This generally makes it a bit more difficult to keep the unique ids stable between runs of the entity resolver, so is not recommended.\n",
    "\n",
    "\n",
    "**Defining a combination of fields that uniquely identify the entlet**\n",
    "\n",
    "Alternatively, you can specify a combination of fields that together define the entlet as unique. These fields still allow multiple values; the values provided will be hashed together to create a the unique id."
   ]
  },
  {
   "cell_type": "code",
   "execution_count": 3,
   "id": "a0a98e5a",
   "metadata": {},
   "outputs": [
    {
     "name": "stdout",
     "output_type": "stream",
     "text": [
      "Fields required for unique ID creation: ['data_source', 'ent_type']\n",
      "The following fields behave as source-specific unique ID fields: countyFIPS\n"
     ]
    }
   ],
   "source": [
    "# Define a field (countyFIPS) that contains a unique id provided by the source (example dataset)\n",
    "# Note that this is a classmethod\n",
    "Entlet.define_source_uid_field(\"countyFIPS\")\n",
    "\n",
    "# Define your own unique id for this specific entlet\n",
    "# entlet.define_individual_id(1)\n",
    "\n",
    "# Define a combination of fields that uniquely identify the entlet\n",
    "# Entlet.define_custom_uid_fields(\"location.country\", \"location.state\"\", \"name\")\n",
    "\n",
    "print(\"Fields required for unique ID creation: \" + str(Entlet.UID_FIELDS))\n",
    "print(\"The following fields behave as source-specific unique ID fields: \" + str(Entlet.SOURCE_UID_FIELD))"
   ]
  },
  {
   "cell_type": "markdown",
   "id": "11dae41b",
   "metadata": {},
   "source": [
    "You can add values to the entlet as you go.  Each field (except for \"reserved\" fields) is treated as a list, so new values are simply appended (duplicate values are discarded)."
   ]
  },
  {
   "cell_type": "code",
   "execution_count": 4,
   "id": "31e239fe",
   "metadata": {},
   "outputs": [
    {
     "data": {
      "text/plain": [
       "Entlet(countyFIPS=12345)"
      ]
     },
     "execution_count": 4,
     "metadata": {},
     "output_type": "execute_result"
    }
   ],
   "source": [
    "entlet.add({\n",
    "    \"countyFIPS\": \"12345\",  # Reserved field, because we defined it as the Source UID field\n",
    "    \"location\": {\n",
    "        \"country\": \"UK\",\n",
    "        \"state\": \"Not alabama\"\n",
    "    }\n",
    "})"
   ]
  },
  {
   "cell_type": "markdown",
   "id": "9b95eef9",
   "metadata": {},
   "source": [
    "##### Reserved fields on the entlet\n",
    "\n",
    "You *must* add string values for the following 2 fields on every entlet:\n",
    "* ent_type\n",
    "* data_source\n",
    "\n",
    "Note that entlets with different ent_types *will not resolve together*. Capitalization matters here."
   ]
  },
  {
   "cell_type": "code",
   "execution_count": 5,
   "id": "704cc87e",
   "metadata": {},
   "outputs": [
    {
     "data": {
      "text/plain": [
       "Entlet(countyFIPS=12345, ent_type=county, data_source=test)"
      ]
     },
     "execution_count": 5,
     "metadata": {},
     "output_type": "execute_result"
    }
   ],
   "source": [
    "entlet.add({\n",
    "    \"ent_type\": \"county\",\n",
    "    \"data_source\": \"test\",\n",
    "})"
   ]
  },
  {
   "cell_type": "markdown",
   "id": "f80288ab",
   "metadata": {},
   "source": [
    "\n"
   ]
  },
  {
   "cell_type": "markdown",
   "id": "d5809dee",
   "metadata": {},
   "source": [
    "### Creating an EntletMap\n",
    "\n",
    "Now that we've created our first entlet, added some data to it, and defined how it should produce its unique id, we have to add it to a \"pool\" of entlets for resolution."
   ]
  },
  {
   "cell_type": "code",
   "execution_count": 6,
   "id": "d25d4c02",
   "metadata": {},
   "outputs": [],
   "source": [
    "from resolver import EntletMap\n",
    "\n",
    "# We can simply instance EntletMap with one or more entlets,\n",
    "# but later we'll use the .add() method to add additional ones\n",
    "emap = EntletMap([entlet])"
   ]
  },
  {
   "cell_type": "markdown",
   "id": "848dca22",
   "metadata": {},
   "source": [
    "We've added one entlet to the EntletMap. Now lets add a few more!"
   ]
  },
  {
   "cell_type": "code",
   "execution_count": 7,
   "id": "dc08a298",
   "metadata": {},
   "outputs": [
    {
     "data": {
      "text/plain": [
       "<resolver.EntletMap 3 entlets>"
      ]
     },
     "execution_count": 7,
     "metadata": {},
     "output_type": "execute_result"
    }
   ],
   "source": [
    "entlet = Entlet()\n",
    "entlet.add({\n",
    "    \"ent_type\": \"county\",\n",
    "    \"data_source\": \"test\",\n",
    "    \"countyFIPS\": \"23456\",\n",
    "    \"name\": \"Lake\",\n",
    "    \"location\": {\n",
    "        \"country\": \"US\",\n",
    "        \"state\": \"IL\"\n",
    "    }\n",
    "})\n",
    "emap.add(entlet)\n",
    "\n",
    "entlet = Entlet()\n",
    "entlet.add({\n",
    "    \"ent_type\": \"county\",\n",
    "    \"data_source\": \"test\",\n",
    "    \"countyFIPS\": \"34567\",\n",
    "    \"name\": \"DuPage County\",\n",
    "    \"location\": {\n",
    "        \"country\": \"US\",\n",
    "        \"state\": \"Illinois\"\n",
    "    }\n",
    "})\n",
    "emap.add(entlet)"
   ]
  },
  {
   "cell_type": "markdown",
   "id": "b0f769fa",
   "metadata": {},
   "source": [
    "## Building a Resolution Pipeline"
   ]
  },
  {
   "cell_type": "markdown",
   "id": "8e618eba",
   "metadata": {},
   "source": [
    "#### Working with Standardizers\n",
    "\n",
    "We now have 3 Entlets in our EntletMap, but there's a problem. The last entlet we added has \"Illinois\" as its location.state value, while other the entlets have the value \"IL\". This could cause problems during resolution, so we should standardize the values before running the rest of the pipeline. Thankfully, the package provides a US State name-to-bigram standardizer.\n",
    "\n",
    "We only want to standardize instances where location.country is \"US,\" though; standardizing French states using American state names doesn't make any sense. So, we can apply a filter to say \"only standardize values in entlets where the 'country' value equals 'US' (more on standardization filters later)."
   ]
  },
  {
   "cell_type": "code",
   "execution_count": 8,
   "id": "76b4c86e",
   "metadata": {},
   "outputs": [],
   "source": [
    "from resolver.standardizers import UsState2Code\n",
    "import operator\n",
    "\n",
    "state_std = UsState2Code(\n",
    "    \"location.state\",\n",
    "    filters=[{\n",
    "            \"field_name\": \"location.country\",\n",
    "            \"comparator\": operator.eq,\n",
    "            \"value\": \"US\"\n",
    "    }]\n",
    ")"
   ]
  },
  {
   "cell_type": "markdown",
   "id": "f4a7a252",
   "metadata": {},
   "source": [
    "### Building Strategies\n",
    "\n",
    "Strategies are how you determine whether or not two entlets represent the same entity. A strategy can consist of as many ways to compare the entlets as you like, just remember that more strategies means:\n",
    "* More computation needed\n",
    "* Larger chance of \"bad\" resolutions occurring\n",
    "\n",
    "Strategies all consist of the following elements:\n",
    "* A 'blocker'\n",
    "* One or more ways to measure similarity between entlets\n",
    "* A way to determine whether the similarity scores pass a threshold test"
   ]
  },
  {
   "cell_type": "markdown",
   "id": "c78985ee",
   "metadata": {},
   "source": [
    "#### Defining a Blocker\n",
    "\n",
    "Blockers determine how entlets get \"paired up\" for comparison - which implies that *not all entlets will be compared against each other*. Entity Resolution is computationally expensive, and there's always a small chance that a \"bad\" resolution will occur. To mitigate both of these things, we define a blocker to try and pair up entlets in the smartest possible way.\n",
    "\n",
    "For this example, we'll use the SortedNeighborhood blocker, with a window size of 3. We tell the blocker to block based on the 'name' field, meaning the entlets will get sorted based on values in the 'name' field. The window size means that entlets will only be compared with their 3 closest alphabetical neighbors."
   ]
  },
  {
   "cell_type": "code",
   "execution_count": 9,
   "id": "dc4cd861",
   "metadata": {},
   "outputs": [],
   "source": [
    "from resolver.blocking.sorted_value import SortedNeighborhood\n",
    "\n",
    "blocker = SortedNeighborhood(\"name\", window_size=3)"
   ]
  },
  {
   "cell_type": "markdown",
   "id": "9d4780ff",
   "metadata": {},
   "source": [
    "#### Defining Transforms and Similarity Measures\n",
    "\n",
    "Now we need to determine how to compare values against each other. We'll define two similarity measures for this strategy:\n",
    "* Exact match between values of 'location.state'\n",
    "* Cosine similarity between the vector values of 'name'\n",
    "\n",
    "Note that the second strategy will require that we convert the value in the 'name' field to a vector. We can accomplish this using a transform that returns a vector. For this example, we'll use TF-IDF."
   ]
  },
  {
   "cell_type": "code",
   "execution_count": 10,
   "id": "c7eed678",
   "metadata": {},
   "outputs": [],
   "source": [
    "from resolver.similarity import CosineSimilarity, ExactMatch\n",
    "from resolver.transforms import TfIdfTokenizedVector\n",
    "\n",
    "name_exact_match = ExactMatch(\"location.state\")\n",
    "\n",
    "tfidf = TfIdfTokenizedVector()\n",
    "name_tfidf_similarity = CosineSimilarity(\"name\", transform=tfidf)"
   ]
  },
  {
   "cell_type": "markdown",
   "id": "3070087e",
   "metadata": {},
   "source": [
    "#### Defining a scoring method\n",
    "\n",
    "Since we have two different measurements of similarity, we have to tell the Strategy how to combine those scores into a single heuristic that can be tested against a threshold we set.\n",
    "\n",
    "For this example, we'll treat each of the two scores as dimensions in a vector and treat that vector's magnitude as the overall score. Any combination of scores that produces a vector with magnitude greater than 1 will be considered a valid resolution."
   ]
  },
  {
   "cell_type": "code",
   "execution_count": 11,
   "id": "1ace3f92",
   "metadata": {},
   "outputs": [],
   "source": [
    "from resolver.scoring import VectorMagnitude\n",
    "\n",
    "scoring_method = VectorMagnitude(min=1.0)"
   ]
  },
  {
   "cell_type": "code",
   "execution_count": 12,
   "id": "ad2e1282",
   "metadata": {},
   "outputs": [],
   "source": [
    "from resolver import Strategy\n",
    "\n",
    "# Roll up the above blocker, similarity metrics, and scoring method into a Strategy\n",
    "strategy = Strategy(\n",
    "    blocker=blocker,\n",
    "    metrics=[name_exact_match, name_tfidf_similarity],\n",
    "    scoring_method=scoring_method\n",
    ")"
   ]
  },
  {
   "cell_type": "markdown",
   "id": "e6ea5ed5",
   "metadata": {},
   "source": [
    "### Defining a Pipeline\n",
    "\n",
    "The Pipeline is what actually runs Entity Resolution, and will try to minimize the computational overhead of the strategies that you provide using under-the-hood optimizations. You can define as many strategies, standardizers, and partitioners (TODO) as you like.\n",
    "\n",
    "To run the pipeline against the entlets you've created, pass your EntletMap to the Pipeline's .resolve() method."
   ]
  },
  {
   "cell_type": "code",
   "execution_count": 13,
   "id": "19a2f461",
   "metadata": {},
   "outputs": [
    {
     "name": "stdout",
     "output_type": "stream",
     "text": [
      "           entlet_id                                            value\n",
      "0  test:county:12345  [IL, {'country': 'UK', 'state': 'Not alabama'}]\n",
      "1  test:county:23456                                             [IL]\n",
      "2  test:county:34567                                             [IL]\n",
      "           entlet_id                                      value\n",
      "0  test:county:12345                                         IL\n",
      "0  test:county:12345  {'country': 'UK', 'state': 'Not alabama'}\n",
      "1  test:county:23456                                         IL\n",
      "2  test:county:34567                                         IL\n",
      "           entlet_id            value\n",
      "0  test:county:12345    [Lake County]\n",
      "1  test:county:23456           [Lake]\n",
      "2  test:county:34567  [DuPage County]\n",
      "           entlet_id          value\n",
      "0  test:county:12345    Lake County\n",
      "1  test:county:23456           Lake\n",
      "2  test:county:34567  DuPage County\n"
     ]
    }
   ],
   "source": [
    "from resolver import Pipeline\n",
    "\n",
    "pipeline = Pipeline(\n",
    "    strategies=[strategy], \n",
    "    standardizers=[state_std]\n",
    ")\n",
    "\n",
    "entity_map = pipeline.resolve(emap)"
   ]
  },
  {
   "cell_type": "markdown",
   "id": "eab56bb0",
   "metadata": {},
   "source": [
    "#### Working with Results\n",
    "\n",
    "The Pipeline will give you back an EntityMap, where the keys represent a unique Entity ID (as opposed to the earlier Ent*let* ID), and the values represent the aggregated information corresponding to all of the underlying entlets."
   ]
  },
  {
   "cell_type": "code",
   "execution_count": 14,
   "id": "f125874e",
   "metadata": {},
   "outputs": [
    {
     "name": "stdout",
     "output_type": "stream",
     "text": [
      "{'entity:5edfc89b10dea4d9dc8827d77c055def838e7c45': {'countyFIPS': ['23456',\n",
      "                                                                    '34567',\n",
      "                                                                    '12345'],\n",
      "                                                     'data_source': ['test'],\n",
      "                                                     'ent_type': ['county'],\n",
      "                                                     'entity_id': 'entity:5edfc89b10dea4d9dc8827d77c055def838e7c45',\n",
      "                                                     'entlet_id': ['test:county:12345',\n",
      "                                                                   'test:county:34567',\n",
      "                                                                   'test:county:23456'],\n",
      "                                                     'location': [{'country': 'US',\n",
      "                                                                   'state': 'IL',\n",
      "                                                                   'state_raw': 'Illinois'},\n",
      "                                                                  {'country': 'UK',\n",
      "                                                                   'state': 'Not '\n",
      "                                                                            'alabama'},\n",
      "                                                                  {'country': 'US',\n",
      "                                                                   'state': 'IL',\n",
      "                                                                   'state_raw': 'IL'}],\n",
      "                                                     'name': ['DuPage County',\n",
      "                                                              'Lake County',\n",
      "                                                              'Lake']}}\n"
     ]
    }
   ],
   "source": [
    "from pprint import pprint\n",
    "\n",
    "pprint(entity_map)"
   ]
  },
  {
   "cell_type": "code",
   "execution_count": null,
   "id": "c035ddac",
   "metadata": {},
   "outputs": [],
   "source": []
  }
 ],
 "metadata": {
  "kernelspec": {
   "display_name": "Python 3 (ipykernel)",
   "language": "python",
   "name": "python3"
  },
  "language_info": {
   "codemirror_mode": {
    "name": "ipython",
    "version": 3
   },
   "file_extension": ".py",
   "mimetype": "text/x-python",
   "name": "python",
   "nbconvert_exporter": "python",
   "pygments_lexer": "ipython3",
   "version": "3.9.7"
  }
 },
 "nbformat": 4,
 "nbformat_minor": 5
}
